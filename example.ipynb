{
 "metadata": {
  "name": "",
  "signature": "sha256:c137546ba7892a6d0bad805eafc38177f7f30f7bb5b4f6e67cbb84a06db9806b"
 },
 "nbformat": 3,
 "nbformat_minor": 0,
 "worksheets": [
  {
   "cells": [
    {
     "cell_type": "code",
     "collapsed": false,
     "input": [
      "import sciunit, sciunit.capabilities, sciunit.models, sciunit.scores"
     ],
     "language": "python",
     "metadata": {},
     "outputs": [],
     "prompt_number": 1
    },
    {
     "cell_type": "code",
     "collapsed": false,
     "input": [
      "class EqualsTest(sciunit.Test):\n",
      "    \"\"\"Produces a boolean score if the model predicts \n",
      "    the same number as the observation.\"\"\"   \n",
      "    required_capabilities = (sciunit.capabilities.ProducesNumber,)\n",
      "    def generate_prediction(self, model):\n",
      "        return model.produce_number()\n",
      "    \n",
      "    score_type = sciunit.scores.BooleanScore\n",
      "    def compute_score(self, observation, prediction):\n",
      "        return self.score_type(observation == prediction)"
     ],
     "language": "python",
     "metadata": {},
     "outputs": [],
     "prompt_number": 2
    },
    {
     "cell_type": "code",
     "collapsed": false,
     "input": [
      "equals_one_test = EqualsTest(1)\n",
      "equals_two_test = EqualsTest(2)\n",
      "print(equals_one_test, equals_two_test)"
     ],
     "language": "python",
     "metadata": {},
     "outputs": [
      {
       "output_type": "stream",
       "stream": "stdout",
       "text": [
        "EqualsTest (EqualsTest) EqualsTest (EqualsTest)\n"
       ]
      }
     ],
     "prompt_number": 3
    },
    {
     "cell_type": "code",
     "collapsed": false,
     "input": [
      "one_model = sciunit.models.ConstModel(1)\n",
      "two_model = sciunit.models.ConstModel(2)\n",
      "three_model = sciunit.models.ConstModel(3)\n",
      "print(one_model, two_model, three_model)"
     ],
     "language": "python",
     "metadata": {},
     "outputs": [
      {
       "output_type": "stream",
       "stream": "stdout",
       "text": [
        "ConstModel (ConstModel) ConstModel (ConstModel) ConstModel (ConstModel)\n"
       ]
      }
     ],
     "prompt_number": 4
    },
    {
     "cell_type": "code",
     "collapsed": false,
     "input": [
      "one_one_score = equals_one_test.judge(one_model)\n",
      "one_two_score = equals_two_test.judge(one_model)\n",
      "print(one_one_score, one_two_score)"
     ],
     "language": "python",
     "metadata": {},
     "outputs": [
      {
       "output_type": "stream",
       "stream": "stdout",
       "text": [
        "Pass Fail\n"
       ]
      }
     ],
     "prompt_number": 5
    },
    {
     "cell_type": "code",
     "collapsed": false,
     "input": [
      "print(one_one_score.model, one_one_score.test)"
     ],
     "language": "python",
     "metadata": {},
     "outputs": [
      {
       "output_type": "stream",
       "stream": "stdout",
       "text": [
        "ConstModel (ConstModel) EqualsTest (EqualsTest)\n"
       ]
      }
     ],
     "prompt_number": 6
    },
    {
     "cell_type": "code",
     "collapsed": false,
     "input": [
      "suite = sciunit.TestSuite(\"suite\", [equals_one_test, equals_two_test])"
     ],
     "language": "python",
     "metadata": {},
     "outputs": [],
     "prompt_number": 7
    },
    {
     "cell_type": "code",
     "collapsed": false,
     "input": [
      "matrix = suite.judge([one_model, two_model, three_model])\n",
      "print(matrix[equals_one_test])\n",
      "print(matrix[two_model])"
     ],
     "language": "python",
     "metadata": {},
     "outputs": [
      {
       "output_type": "stream",
       "stream": "stdout",
       "text": [
        "(Pass, Fail, Fail)\n",
        "(Fail, Pass)\n"
       ]
      }
     ],
     "prompt_number": 8
    },
    {
     "cell_type": "code",
     "collapsed": false,
     "input": [
      "matrix.view()"
     ],
     "language": "python",
     "metadata": {},
     "outputs": [
      {
       "html": [
        "\n",
        "  \t<table>\n",
        "  \t  <thead><tr><th></th><th>EqualsTest (EqualsTest)</th>\r",
        "<th>EqualsTest (EqualsTest)</th></tr></thead>\n",
        "  \t  <tbody><tr><td>ConstModel (ConstModel)</td><td>Pass</td>\r",
        "<td>Fail</td></tr>\r",
        "<tr><td>ConstModel (ConstModel)</td><td>Fail</td>\r",
        "<td>Pass</td></tr>\r",
        "<tr><td>ConstModel (ConstModel)</td><td>Fail</td>\r",
        "<td>Fail</td></tr></tbody>\n",
        "  \t</table>"
       ],
       "metadata": {},
       "output_type": "pyout",
       "prompt_number": 9,
       "text": [
        "<IPython.core.display.HTML at 0x103a9ce10>"
       ]
      }
     ],
     "prompt_number": 9
    }
   ],
   "metadata": {}
  }
 ]
}