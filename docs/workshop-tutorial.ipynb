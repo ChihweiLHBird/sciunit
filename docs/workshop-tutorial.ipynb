{
 "cells": [
  {
   "cell_type": "markdown",
   "metadata": {
    "slideshow": {
     "slide_type": "skip"
    }
   },
   "source": [
    "### Workshop Tutorial: Note that all slides have been optimized for a [RISE slideshow](https://rise.readthedocs.io)"
   ]
  },
  {
   "cell_type": "code",
   "execution_count": 1,
   "metadata": {
    "slideshow": {
     "slide_type": "skip"
    }
   },
   "outputs": [],
   "source": [
    "# Ignore warnings that distract from the tutorial\n",
    "import warnings\n",
    "warnings.simplefilter(\"ignore\", category=FutureWarning)"
   ]
  },
  {
   "cell_type": "markdown",
   "metadata": {
    "slideshow": {
     "slide_type": "slide"
    }
   },
   "source": [
    "<div align='center' style='font-size:200%'>Validating Computational Models with</div>\n",
    "<div align='center'><img src=\"https://raw.githubusercontent.com/scidash/assets/master/logos/SciUnit/sci-unit-wide.png\" width=\"50%\"></div>\n",
    "<hr>\n",
    "<br>\n",
    "<div align='center' style='font-size:150%; line-height:80px;'>\n",
    "Richard C. (Rick) Gerkin, PhD\n",
    "</div>    \n",
    "<div align='center' style='font-size:100%; line-height:80px;'>Associate Research Professor, School of Life Sciences<br>\n",
    "Co-Director, <a href=\"http://iconlab.asu.edu\">Laboratory for Informatics and Computation in Open Neuroscience</a><br>\n",
    "Arizona State University, Tempe, AZ USA\n",
    "</div>\n",
    "<hr>"
   ]
  },
  {
   "cell_type": "markdown",
   "metadata": {
    "slideshow": {
     "slide_type": "slide"
    }
   },
   "source": [
    "### <i>SciUnit</i> is a Python package.  Let's make sure it's installed."
   ]
  },
  {
   "cell_type": "code",
   "execution_count": 2,
   "metadata": {
    "slideshow": {
     "slide_type": "fragment"
    }
   },
   "outputs": [],
   "source": [
    "# An object-oriented Python framework for model validation\n",
    "import sciunit"
   ]
  },
  {
   "cell_type": "markdown",
   "metadata": {
    "slideshow": {
     "slide_type": "slide"
    }
   },
   "source": [
    "### <i>SciUnit</i> is a framework for validating scientific models by creating experimental-data-driven <i>unit tests</i>."
   ]
  },
  {
   "cell_type": "markdown",
   "metadata": {
    "slideshow": {
     "slide_type": "fragment"
    }
   },
   "source": [
    "#### Conventionally, a unit test is a <i>\"a strict, written contract that the piece of code must satisfy</i>”"
   ]
  },
  {
   "cell_type": "markdown",
   "metadata": {
    "slideshow": {
     "slide_type": "fragment"
    }
   },
   "source": [
    "#### <i>SciUnit</i> extends this to scientific models, making model validation both formal and transparent.  "
   ]
  },
  {
   "cell_type": "markdown",
   "metadata": {
    "slideshow": {
     "slide_type": "fragment"
    }
   },
   "source": [
    "#### The validity of a model is then represented by the collection of unit tests that it passes."
   ]
  },
  {
   "cell_type": "code",
   "execution_count": 3,
   "metadata": {
    "slideshow": {
     "slide_type": "skip"
    }
   },
   "outputs": [
    {
     "data": {
      "text/html": [
       "\n",
       "<style>\n",
       "    \n",
       "    td.red {\n",
       "        background-color: #FF0000;\n",
       "        border: 1px solid black;\n",
       "    }\n",
       "    td.green {\n",
       "        background-color: #00FF00;\n",
       "        border: 1px solid black;\n",
       "    }\n",
       "    td.grey {\n",
       "        background-color: #AAAAAA;\n",
       "        border: 1px solid black;\n",
       "    }\n",
       "    th {\n",
       "        text-align: center;\n",
       "        border: 1px solid black;\n",
       "    }\n",
       "    table td, table th {\n",
       "    border: 10px solid black;\n",
       "    font-size: 250%;\n",
       "    }\n",
       "</style>\n"
      ],
      "text/plain": [
       "<IPython.core.display.HTML object>"
      ]
     },
     "metadata": {},
     "output_type": "display_data"
    }
   ],
   "source": [
    "from IPython.display import display, HTML\n",
    "display(HTML(\"\"\"\n",
    "<style>\n",
    "    \n",
    "    td.red {\n",
    "        background-color: #FF0000;\n",
    "        border: 1px solid black;\n",
    "    }\n",
    "    td.green {\n",
    "        background-color: #00FF00;\n",
    "        border: 1px solid black;\n",
    "    }\n",
    "    td.grey {\n",
    "        background-color: #AAAAAA;\n",
    "        border: 1px solid black;\n",
    "    }\n",
    "    th {\n",
    "        text-align: center;\n",
    "        border: 1px solid black;\n",
    "    }\n",
    "    table td, table th {\n",
    "    border: 10px solid black;\n",
    "    font-size: 250%;\n",
    "    }\n",
    "</style>\n",
    "\"\"\"))"
   ]
  },
  {
   "cell_type": "markdown",
   "metadata": {
    "slideshow": {
     "slide_type": "slide"
    }
   },
   "source": [
    "<div style='font-size:200%; text-align: center;'>Abstract example: A brief history of cosmology</div><br>"
   ]
  },
  {
   "cell_type": "markdown",
   "metadata": {
    "slideshow": {
     "slide_type": "fragment"
    }
   },
   "source": [
    "<table>\n",
    "<tr style='background-color: #FFFFFF'>\n",
    "    <td></td><th style='text-align: center'>Experimentalists</th>\n",
    "</tr>\n",
    "<tr>\n",
    "    <th>Modelers</th><td><table style='border: 1px solid black'></td>\n",
    "<tr>\n",
    "    <th></th><th>Babylonians</th><th>Brahe</th><th>Galileo</th><th>Le Verrier</th>\n",
    "</tr>\n",
    "<tr>\n",
    "    <th>Ptolemy</th><td class='green'></td><td class='red'></td><td class='red'></td><td class='red'></td>\n",
    "</tr>\n",
    "<tr>\n",
    "    <th>Copernicus</th><td class='green'></td><td class='red'></td><td class='red'></td><td class='red'></td>\n",
    "</tr>\n",
    "<tr>\n",
    "    <th>Kepler</th><td class='green'></td><td style='background-color:#FF0000'></td><td class='grey'></td><td class='red'></td>\n",
    "</tr>\n",
    "<tr>\n",
    "    <th>Newton</th><td class='green'></td><td class='green'></td><td class='green'></td><td class='red'></td>\n",
    "</tr>\n",
    "<tr>\n",
    "    <th>Einstein</th><td class='green'></td><td class='green'></td><td class='green'></td><td class='green'></td>\n",
    "</tr>\n",
    "</table>\n",
    "</td>\n",
    "</tr>\n",
    "</table>\n",
    "\n",
    "<table style='border: 1px solid black'>\n",
    "    <tr>\n",
    "        <td class='green'>Pass</td><td class='red'>Fail</td><td class='grey'>Unclear</td>\n",
    "    </tr>\n",
    "</table>"
   ]
  },
  {
   "cell_type": "markdown",
   "metadata": {
    "slideshow": {
     "slide_type": "slide"
    }
   },
   "source": [
    "## Goals:   "
   ]
  },
  {
   "cell_type": "markdown",
   "metadata": {
    "slideshow": {
     "slide_type": "fragment"
    }
   },
   "source": [
    "### - Generate such unit tests for any experimental data"
   ]
  },
  {
   "cell_type": "markdown",
   "metadata": {
    "slideshow": {
     "slide_type": "fragment"
    }
   },
   "source": [
    "### - Execute these tests against all models capable of taking them"
   ]
  },
  {
   "cell_type": "markdown",
   "metadata": {
    "slideshow": {
     "slide_type": "fragment"
    }
   },
   "source": [
    "### - Programatically display the results as a 'dashboard' of model validity\n",
    "  - Optionally record and display non-boolean test results, test artifacts, etc."
   ]
  },
  {
   "cell_type": "markdown",
   "metadata": {
    "slideshow": {
     "slide_type": "slide"
    }
   },
   "source": [
    "### High-level workflow for validation:"
   ]
  },
  {
   "cell_type": "markdown",
   "metadata": {
    "slideshow": {
     "slide_type": "fragment"
    }
   },
   "source": [
    "```python\n",
    "# Hypothetical examples of data-driven tests\n",
    "from cosmosuite.tests import brahe_test, galileo_test, leverrier_test\n",
    "\n",
    "# Hypothetical examples of parameterized models\n",
    "from cosmosuite.models import ptolemy_model, copernicus_model \n",
    "\n",
    "# Execute one test against one model and return a test score\n",
    "brahe_test.judge(copernicus_model) \n",
    "```"
   ]
  },
  {
   "cell_type": "markdown",
   "metadata": {
    "slideshow": {
     "slide_type": "slide"
    }
   },
   "source": [
    "### Q: How does a test 'know' how to test a model?"
   ]
  },
  {
   "cell_type": "markdown",
   "metadata": {
    "slideshow": {
     "slide_type": "fragment"
    }
   },
   "source": [
    "### A: Through guarantees that models provide to tests, called <i>'Capabilities'</i>."
   ]
  },
  {
   "cell_type": "markdown",
   "metadata": {
    "slideshow": {
     "slide_type": "fragment"
    }
   },
   "source": [
    "[Code for **sciunit.capabilities** on GitHub](https://github.com/scidash/sciunit/tree/master/sciunit/capabilities.py)"
   ]
  },
  {
   "cell_type": "markdown",
   "metadata": {
    "slideshow": {
     "slide_type": "fragment"
    }
   },
   "source": [
    "### Next we show an example of a Capability relevant to the cosmology example"
   ]
  },
  {
   "cell_type": "code",
   "execution_count": 4,
   "metadata": {
    "slideshow": {
     "slide_type": "skip"
    }
   },
   "outputs": [],
   "source": [
    "from math import pi, sqrt, sin, cos, tan, atan\n",
    "from datetime import datetime, timedelta\n",
    "from sympy import Symbol, solvers, sin as sin_\n",
    "import numpy as np"
   ]
  },
  {
   "cell_type": "code",
   "execution_count": 5,
   "metadata": {
    "slideshow": {
     "slide_type": "slide"
    }
   },
   "outputs": [],
   "source": [
    "class ProducesOrbitalPosition(sciunit.Capability):\n",
    "    \"\"\"\n",
    "    A model `capability`, i.e. a collection of methods\n",
    "    that a test is allowed to invoke on a model.\n",
    "    These methods are unimplemented by design,\n",
    "    and the model must implement them.\n",
    "    \"\"\"\n",
    "    \n",
    "    def get_position(self, t: datetime) -> tuple:\n",
    "        \"\"\"Produce an orbital position from a time point\n",
    "        \n",
    "        Args:\n",
    "            t (datetime): The time point to examine, \n",
    "                          relative to perihelion\n",
    "\n",
    "        Returns:\n",
    "            tuple: A pair of (r, theta) coordinates\n",
    "                   in the oribtal plane\n",
    "        \"\"\"\n",
    "        raise NotImplementedError(\"\")\n",
    "        \n",
    "    @property\n",
    "    def perihelion(self) -> datetime:\n",
    "        \"\"\"Return the time of last perihelion\"\"\"\n",
    "        raise NotImplementedError(\"\")\n",
    "    \n",
    "    @property\n",
    "    def period(self) -> float:\n",
    "        \"\"\"Return the period of the orbit\"\"\"\n",
    "        raise NotImplementedError(\"\")\n",
    "    \n",
    "    @property\n",
    "    def eccentricity(self) -> float:\n",
    "        \"\"\"Return the eccentricity of the orbit\"\"\"\n",
    "        raise NotImplementedError(\"\")\n",
    "    \n",
    "    def get_x_y(self, t: datetime) -> tuple:\n",
    "        r, theta = self.get_position(t)\n",
    "        x = r*cos(theta)\n",
    "        y = r*sin(theta)\n",
    "        return x, y"
   ]
  },
  {
   "cell_type": "markdown",
   "metadata": {
    "slideshow": {
     "slide_type": "slide"
    }
   },
   "source": [
    "### <i>SciUnit</i> (and domain specific libraries that build upon it) also define their own capabilities"
   ]
  },
  {
   "cell_type": "code",
   "execution_count": 6,
   "metadata": {
    "slideshow": {
     "slide_type": "fragment"
    }
   },
   "outputs": [],
   "source": [
    "# An extremely generic model capability\n",
    "from sciunit.capabilities import ProducesNumber\n",
    "\n",
    "# A specific model capability used in neurophysiology\n",
    "#from neuronunit.capabilities import HasMembranePotential"
   ]
  },
  {
   "cell_type": "markdown",
   "metadata": {
    "slideshow": {
     "slide_type": "slide"
    }
   },
   "source": [
    "### Now we can define a <i>model class</i> that implements this `ProducesOrbitalPosition` capability by inheritance.  "
   ]
  },
  {
   "cell_type": "markdown",
   "metadata": {
    "slideshow": {
     "slide_type": "fragment"
    }
   },
   "source": [
    "### All models are subclasses of `sciunit.Model` and typically one or more subclasses of `sciunit.Capability`."
   ]
  },
  {
   "cell_type": "code",
   "execution_count": null,
   "metadata": {
    "slideshow": {
     "slide_type": "slide"
    }
   },
   "outputs": [],
   "source": [
    "class BaseKeplerModel(sciunit.Model, \n",
    "                      ProducesOrbitalPosition):\n",
    "    \"\"\"A sciunit model class corresponding to a Kepler-type model\n",
    "    of an object in the solar system. This model has the \n",
    "    `ProducesOrbitalPosition` capability by inheritance\"\"\"\n",
    "    \n",
    "    def get_position(self, t):\n",
    "        r, theta = self.heliocentric_distance(t), self.true_anomaly(t)\n",
    "        return r, theta\n",
    "    \n",
    "    @property\n",
    "    def perihelion(self):\n",
    "        \"\"\"Implementation of time of last perihelion\"\"\"\n",
    "        return self.params['perihelion']\n",
    "    \n",
    "    @property\n",
    "    def period(self):\n",
    "        \"\"\"Implementation of period of the orbit\"\"\"\n",
    "        return self.params['period']\n",
    "    \n",
    "    @property\n",
    "    def eccentricity(self):\n",
    "        \"\"\"Implementation of orbital eccentricity (assuming elliptic orbit)\"\"\"\n",
    "        a, b = self.params['semimajor_axis'], self.params['semiminor_axis']\n",
    "        return sqrt(1 - (b/a)**2)"
   ]
  },
  {
   "cell_type": "code",
   "execution_count": 7,
   "metadata": {
    "slideshow": {
     "slide_type": "slide"
    }
   },
   "outputs": [],
   "source": [
    "class KeplerModel(BaseKeplerModel):\n",
    "    \"\"\"This 'full' model contains all of the methods required\n",
    "    to complete the implementation of the `ProducesOrbitalPosition` capability\"\"\"\n",
    "    \n",
    "    def mean_anomaly(self, t):\n",
    "        \"\"\"How long into its period the object is at time `t`\"\"\"\n",
    "        time_since_perihelion = t - self.perihelion\n",
    "        return 2*pi*(time_since_perihelion % self.period)/self.period\n",
    "    \n",
    "    def eccentric_anomaly(self, t):\n",
    "        \"\"\"How far the object has gone into its period at time `t`\"\"\"\n",
    "        E = Symbol('E')\n",
    "        M, e = self.mean_anomaly(t), self.eccentricity\n",
    "        expr = E - e*sin_(E) - M\n",
    "        return solvers.nsolve(expr, 0)\n",
    "    \n",
    "    def true_anomaly(self, t):\n",
    "        \"\"\"Theta in a polar coordinate system at time `t`\"\"\"\n",
    "        e, E = self.eccentricity, self.eccentric_anomaly(t)\n",
    "        theta = 2*atan(sqrt(tan(E/2)**2 * (1+e)/(1-e)))\n",
    "        return theta\n",
    "    \n",
    "    def heliocentric_distance(self, t):\n",
    "        \"\"\"R in a polar coordinate system at time `t`\"\"\"\n",
    "        a, e = self.params['semimajor_axis'], self.eccentricity\n",
    "        E = self.eccentric_anomaly(t)\n",
    "        return a*(1-e*cos(E))"
   ]
  },
  {
   "cell_type": "markdown",
   "metadata": {
    "slideshow": {
     "slide_type": "slide"
    }
   },
   "source": [
    "### Now we can instantiate a <i>specific model</i> from this class, e.g. one representing orbital path of Earth (according to Kepler)"
   ]
  },
  {
   "cell_type": "code",
   "execution_count": 8,
   "metadata": {
    "slideshow": {
     "slide_type": "fragment"
    }
   },
   "outputs": [],
   "source": [
    "import quantities as pq\n",
    "earth_model = KeplerModel(name = \"Kepler's Earth Model\",\n",
    "                          semimajor_axis=149598023 * pq.km, \n",
    "                          semiminor_axis=149577161 * pq.km, \n",
    "                          period=timedelta(365, 22118), # Period of Earth's orbit \n",
    "                          perihelion=datetime(2019, 1, 3, 0, 19), # Time and date of Earth's last perihelion\n",
    "                         )"
   ]
  },
  {
   "cell_type": "markdown",
   "metadata": {
    "slideshow": {
     "slide_type": "fragment"
    }
   },
   "source": [
    "### We can use this model to make specific predictions, for example the current distance between Earth and the sun."
   ]
  },
  {
   "cell_type": "code",
   "execution_count": 9,
   "metadata": {
    "slideshow": {
     "slide_type": "fragment"
    }
   },
   "outputs": [
    {
     "name": "stdout",
     "output_type": "stream",
     "text": [
      "Heliocentric distance of Earth right now is predicted to be 151709603.8 km\n"
     ]
    }
   ],
   "source": [
    "t = datetime.now()\n",
    "r = earth_model.heliocentric_distance(t)\n",
    "print(\"Heliocentric distance of Earth right now is predicted to be %s\" % r.round(1))"
   ]
  },
  {
   "cell_type": "markdown",
   "metadata": {
    "slideshow": {
     "slide_type": "slide"
    }
   },
   "source": [
    "### Now let's build a test class that we might use with this (and hopefully other) models"
   ]
  },
  {
   "cell_type": "markdown",
   "metadata": {
    "slideshow": {
     "slide_type": "fragment"
    }
   },
   "source": [
    "### First, what kind of scores do we want our test to return?"
   ]
  },
  {
   "cell_type": "code",
   "execution_count": 10,
   "metadata": {
    "slideshow": {
     "slide_type": "fragment"
    }
   },
   "outputs": [],
   "source": [
    "# Several score types available in SciUnit\n",
    "from sciunit.scores import BooleanScore, ZScore, RatioScore, PercentScore # etc., etc."
   ]
  },
  {
   "cell_type": "markdown",
   "metadata": {
    "slideshow": {
     "slide_type": "fragment"
    }
   },
   "source": [
    "[Code for **sciunit.scores** on GitHub](https://github.com/scidash/sciunit/tree/master/sciunit/scores)"
   ]
  },
  {
   "cell_type": "markdown",
   "metadata": {
    "slideshow": {
     "slide_type": "slide"
    }
   },
   "source": [
    "### Here's a first shot a test class for assessing the agreement between predicted and observed positions of orbiting objects.  All test classes are subclasses of `sciunit.Test`."
   ]
  },
  {
   "cell_type": "code",
   "execution_count": 51,
   "metadata": {
    "slideshow": {
     "slide_type": "fragment"
    }
   },
   "outputs": [],
   "source": [
    "class PositionTest(sciunit.Test):\n",
    "    \"\"\"A test of a planetary position at some specified time\"\"\"\n",
    "    \n",
    "    # This test can only operate on models that implement\n",
    "    # the `ProducesOrbitalPosition` capability.\n",
    "    required_capabilities = (ProducesOrbitalPosition,)\n",
    "    \n",
    "    # This test's 'judge' method will return a BooleanScore.\n",
    "    score_type = BooleanScore \n",
    "    \n",
    "    def generate_prediction(self, model):\n",
    "        \"\"\"Generate a prediction from a model\"\"\"\n",
    "        # Get the time point from the test's observation\n",
    "        t = self.observation['t']\n",
    "        # Get the predicted x, y coordinates from the model\n",
    "        x, y = model.get_x_y(t)\n",
    "        # Roll this into a model prediction dictionary\n",
    "        return {'t': t, 'x': x, 'y': y}\n",
    "        \n",
    "    def compute_score(self, observation, prediction):\n",
    "        # Compare observation and prediction to get an error measure\n",
    "        delta_x = observation['x'] - prediction['x']\n",
    "        delta_y = observation['y'] - prediction['y']\n",
    "        error = np.sqrt(delta_x**2 + delta_y**2)\n",
    "        \n",
    "        # Turn this into a True/False score\n",
    "        passing = bool(error < 1e5*pq.kilometer)\n",
    "        score = self.score_type(passing)\n",
    "        score.set_raw(error)\n",
    "        score.description = (\"Passing score if the prediction is \"\n",
    "                             \"within < 100,000 km of the observation\")\n",
    "        return score"
   ]
  },
  {
   "cell_type": "markdown",
   "metadata": {
    "slideshow": {
     "slide_type": "slide"
    }
   },
   "source": [
    "### We might want to include extra checks and constraints on observed data, test parameters, or other contingent testing logic."
   ]
  },
  {
   "cell_type": "code",
   "execution_count": 52,
   "metadata": {
    "slideshow": {
     "slide_type": "fragment"
    }
   },
   "outputs": [],
   "source": [
    "class StricterPositionTest(PositionTest):\n",
    "    # Optional observation units to validate against\n",
    "    units = pq.meter\n",
    "    \n",
    "    # Optional schema for the format of observed data\n",
    "    observation_schema = {'t': {'min': 0, 'required': True},\n",
    "                          'x': {'units': True, 'required': True},\n",
    "                          'y': {'units': True, 'required': True},\n",
    "                          'phi': {'required': False}}\n",
    "    \n",
    "    def validate_observation(self, observation):\n",
    "        \"\"\"Additional checks on the observation\"\"\"\n",
    "        assert isinstance(observation['t'], datetime)\n",
    "        return observation\n",
    "        \n",
    "    # Optional schema for the format of test parameters\n",
    "    params_schema = {'rotate': {'required': False}}\n",
    "\n",
    "    # Optional schema for the format of default test parameters\n",
    "    default_params = {'rotate': False}\n",
    "    \n",
    "    def compute_score(self, observation, prediction):\n",
    "        \"\"\"Optionally use additional information to compute model/data agreement\"\"\"\n",
    "        observation_rotated = observation.copy()\n",
    "        if 'phi' in observation:\n",
    "            observation_rotated['x'] *= cos(observation['phi'])\n",
    "            observation_rotated['y'] *= cos(observation['phi'])\n",
    "        return super().compute_score(observation_rotated, prediction)\n",
    "            "
   ]
  },
  {
   "cell_type": "markdown",
   "metadata": {
    "slideshow": {
     "slide_type": "slide"
    }
   },
   "source": [
    "### Now we can instantiate a test.  Each test instance is a combination of the test class, describing the testing logic and required capabilties, plus some <i>'observation'</i>, i.e. data.  "
   ]
  },
  {
   "cell_type": "code",
   "execution_count": 53,
   "metadata": {
    "slideshow": {
     "slide_type": "fragment"
    }
   },
   "outputs": [],
   "source": [
    "# N.B.: This data is made up\n",
    "earth_position_test_march = StricterPositionTest(name = \"Earth Orbital Data on March 1st, 2019\",\n",
    "                                       observation = {'t': datetime(2019, 3, 1),\n",
    "                                                      'x': 7.905e7 * pq.km, \n",
    "                                                      'y': 1.254e8 * pq.km})"
   ]
  },
  {
   "cell_type": "markdown",
   "metadata": {
    "slideshow": {
     "slide_type": "slide"
    }
   },
   "source": [
    "### Finally, we can execute this one test against this one model"
   ]
  },
  {
   "cell_type": "code",
   "execution_count": 54,
   "metadata": {
    "slideshow": {
     "slide_type": "fragment"
    }
   },
   "outputs": [
    {
     "data": {
      "text/plain": [
       "Pass"
      ]
     },
     "execution_count": 54,
     "metadata": {},
     "output_type": "execute_result"
    }
   ],
   "source": [
    "score = earth_position_test_march.judge(earth_model)\n",
    "score"
   ]
  },
  {
   "cell_type": "markdown",
   "metadata": {
    "slideshow": {
     "slide_type": "fragment"
    }
   },
   "source": [
    "### And we can get additional information about the test, including intermediate objects computed in order to generate a score."
   ]
  },
  {
   "cell_type": "code",
   "execution_count": 55,
   "metadata": {
    "slideshow": {
     "slide_type": "fragment"
    }
   },
   "outputs": [
    {
     "data": {
      "text/html": [
       "Passing score if the prediction is within < 100,000 km of the observation\n"
      ],
      "text/plain": [
       "<IPython.core.display.HTML object>"
      ]
     },
     "metadata": {},
     "output_type": "display_data"
    }
   ],
   "source": [
    "score.describe()"
   ]
  },
  {
   "cell_type": "code",
   "execution_count": 56,
   "metadata": {
    "slideshow": {
     "slide_type": "fragment"
    }
   },
   "outputs": [
    {
     "data": {
      "text/plain": [
       "({'t': datetime.datetime(2019, 3, 1, 0, 0),\n",
       "  'x': array(79046604.57417324) * km,\n",
       "  'y': array(1.25401809e+08) * km},\n",
       " {'t': datetime.datetime(2019, 3, 1, 0, 0),\n",
       "  'x': array(79050000.) * km,\n",
       "  'y': array(1.254e+08) * km})"
      ]
     },
     "execution_count": 56,
     "metadata": {},
     "output_type": "execute_result"
    }
   ],
   "source": [
    "score.prediction, score.observation"
   ]
  },
  {
   "cell_type": "code",
   "execution_count": 57,
   "metadata": {
    "slideshow": {
     "slide_type": "fragment"
    }
   },
   "outputs": [
    {
     "data": {
      "text/plain": [
       "array(3847.28076371) * km"
      ]
     },
     "execution_count": 57,
     "metadata": {},
     "output_type": "execute_result"
    }
   ],
   "source": [
    "score.get_raw()"
   ]
  },
  {
   "cell_type": "markdown",
   "metadata": {
    "slideshow": {
     "slide_type": "slide"
    }
   },
   "source": [
    "### We may want to bundle many such tests into a `TestSuite`.  This suite may contain test from multiple classes, or simply tests which differ only in the observation (data) used to instantiate them."
   ]
  },
  {
   "cell_type": "code",
   "execution_count": 58,
   "metadata": {
    "slideshow": {
     "slide_type": "fragment"
    }
   },
   "outputs": [],
   "source": [
    "earth_position_test_april = StricterPositionTest(name = \"Earth Orbital Data on April 1st, 2019\",\n",
    "                                       observation = {'t': datetime(2019, 4, 1),\n",
    "                                                      'x': 160000 * pq.km, \n",
    "                                                      'y': 70000 * pq.km})\n",
    "\n",
    "earth_position_suite = sciunit.TestSuite([earth_position_test_march,\n",
    "                                         earth_position_test_april],\n",
    "                                         name = 'Earth observations in 2019')"
   ]
  },
  {
   "cell_type": "markdown",
   "metadata": {
    "slideshow": {
     "slide_type": "fragment"
    }
   },
   "source": [
    "### We can then test our model against this whole suite of tests"
   ]
  },
  {
   "cell_type": "code",
   "execution_count": 59,
   "metadata": {
    "slideshow": {
     "slide_type": "fragment"
    }
   },
   "outputs": [
    {
     "data": {
      "text/html": [
       "Executing test <i>Earth Orbital Data on March 1st, 2019</i> on model <i>Kepler's Earth Model</i>... "
      ],
      "text/plain": [
       "<IPython.core.display.HTML object>"
      ]
     },
     "metadata": {},
     "output_type": "display_data"
    },
    {
     "data": {
      "text/html": [
       "Score is <a style=\"color: rgb(60,169,88)\">Pass</a>\n"
      ],
      "text/plain": [
       "<IPython.core.display.HTML object>"
      ]
     },
     "metadata": {},
     "output_type": "display_data"
    },
    {
     "data": {
      "text/html": [
       "Executing test <i>Earth Orbital Data on April 1st, 2019</i> on model <i>Kepler's Earth Model</i>... "
      ],
      "text/plain": [
       "<IPython.core.display.HTML object>"
      ]
     },
     "metadata": {},
     "output_type": "display_data"
    },
    {
     "data": {
      "text/html": [
       "Score is <a style=\"color: rgb(230,78,52)\">Fail</a>\n"
      ],
      "text/plain": [
       "<IPython.core.display.HTML object>"
      ]
     },
     "metadata": {},
     "output_type": "display_data"
    }
   ],
   "source": [
    "scores = earth_position_suite.judge(earth_model)"
   ]
  },
  {
   "cell_type": "markdown",
   "metadata": {
    "slideshow": {
     "slide_type": "slide"
    }
   },
   "source": [
    "### Rich HTML output is automatically produced when this score output is summarized"
   ]
  },
  {
   "cell_type": "code",
   "execution_count": 60,
   "metadata": {
    "slideshow": {
     "slide_type": "fragment"
    }
   },
   "outputs": [
    {
     "data": {
      "text/html": [
       "<html><body><div>\n",
       "<style scoped=\"\">\n",
       "    .dataframe tbody tr th:only-of-type {\n",
       "        vertical-align: middle;\n",
       "    }\n",
       "\n",
       "    .dataframe tbody tr th {\n",
       "        vertical-align: top;\n",
       "    }\n",
       "\n",
       "    .dataframe thead th {\n",
       "        text-align: right;\n",
       "    }\n",
       "</style>\n",
       "<table border=\"1\" class=\"dataframe\" id=\"1851631757646710182\">\n",
       "<thead>\n",
       "<tr style=\"text-align: right;\">\n",
       "<th></th>\n",
       "<th title>Earth Orbital Data on March 1st, 2019</th>\n",
       "<th title>Earth Orbital Data on April 1st, 2019</th>\n",
       "</tr>\n",
       "</thead>\n",
       "<tbody>\n",
       "<tr>\n",
       "<th title=\"A sciunit model class corresponding to a Kepler-type model of an object in the solar system. This model has the  `ProducesOrbitalPosition` capability by inheritance\">Kepler's Earth Model</th>\n",
       "<td style=\"background-color: rgb(60,169,88);\" title=\"Passing score if the prediction is within &lt; 100,000 km of the observation\">Pass</td>\n",
       "<td style=\"background-color: rgb(230,78,52);\" title=\"Passing score if the prediction is within &lt; 100,000 km of the observation\">Fail</td>\n",
       "</tr>\n",
       "</tbody>\n",
       "</table>\n",
       "</div></body></html>"
      ],
      "text/plain": [
       "                     Earth Orbital Data on March 1st, 2019  \\\n",
       "Kepler's Earth Model                                  Pass   \n",
       "\n",
       "                     Earth Orbital Data on April 1st, 2019  \n",
       "Kepler's Earth Model                                  Fail  "
      ]
     },
     "execution_count": 60,
     "metadata": {},
     "output_type": "execute_result"
    }
   ],
   "source": [
    "scores"
   ]
  },
  {
   "cell_type": "markdown",
   "metadata": {
    "slideshow": {
     "slide_type": "slide"
    }
   },
   "source": [
    "### We can then expand this to multiple models"
   ]
  },
  {
   "cell_type": "code",
   "execution_count": 61,
   "metadata": {
    "slideshow": {
     "slide_type": "fragment"
    }
   },
   "outputs": [],
   "source": [
    "# Just like the Kepler model, but returning a random orbital angle\n",
    "class RandomModel(KeplerModel):\n",
    "    def get_position(self, t):\n",
    "        r, theta = super().get_position(t)\n",
    "        return r, 2*pi*np.random.rand()"
   ]
  },
  {
   "cell_type": "code",
   "execution_count": 62,
   "metadata": {
    "slideshow": {
     "slide_type": "fragment"
    }
   },
   "outputs": [],
   "source": [
    "random_model = RandomModel(name = \"Random Earth Model\",\n",
    "                                 semimajor_axis=149598023 * pq.km, \n",
    "                                 semiminor_axis=149577161 * pq.km, \n",
    "                                 period=timedelta(365, 22118), # Period of Earth's orbit \n",
    "                                 perihelion=datetime(2019, 1, 3, 0, 19), # Time and date of Earth's last perihelion\n",
    "                                 )"
   ]
  },
  {
   "cell_type": "code",
   "execution_count": 63,
   "metadata": {
    "slideshow": {
     "slide_type": "slide"
    }
   },
   "outputs": [
    {
     "data": {
      "text/html": [
       "Executing test <i>Earth Orbital Data on March 1st, 2019</i> on model <i>Kepler's Earth Model</i>... "
      ],
      "text/plain": [
       "<IPython.core.display.HTML object>"
      ]
     },
     "metadata": {},
     "output_type": "display_data"
    },
    {
     "data": {
      "text/html": [
       "Score is <a style=\"color: rgb(60,169,88)\">Pass</a>\n"
      ],
      "text/plain": [
       "<IPython.core.display.HTML object>"
      ]
     },
     "metadata": {},
     "output_type": "display_data"
    },
    {
     "data": {
      "text/html": [
       "Executing test <i>Earth Orbital Data on April 1st, 2019</i> on model <i>Kepler's Earth Model</i>... "
      ],
      "text/plain": [
       "<IPython.core.display.HTML object>"
      ]
     },
     "metadata": {},
     "output_type": "display_data"
    },
    {
     "data": {
      "text/html": [
       "Score is <a style=\"color: rgb(230,78,52)\">Fail</a>\n"
      ],
      "text/plain": [
       "<IPython.core.display.HTML object>"
      ]
     },
     "metadata": {},
     "output_type": "display_data"
    },
    {
     "data": {
      "text/html": [
       "Executing test <i>Earth Orbital Data on March 1st, 2019</i> on model <i>Random Earth Model</i>... "
      ],
      "text/plain": [
       "<IPython.core.display.HTML object>"
      ]
     },
     "metadata": {},
     "output_type": "display_data"
    },
    {
     "data": {
      "text/html": [
       "Score is <a style=\"color: rgb(230,78,52)\">Fail</a>\n"
      ],
      "text/plain": [
       "<IPython.core.display.HTML object>"
      ]
     },
     "metadata": {},
     "output_type": "display_data"
    },
    {
     "data": {
      "text/html": [
       "Executing test <i>Earth Orbital Data on April 1st, 2019</i> on model <i>Random Earth Model</i>... "
      ],
      "text/plain": [
       "<IPython.core.display.HTML object>"
      ]
     },
     "metadata": {},
     "output_type": "display_data"
    },
    {
     "data": {
      "text/html": [
       "Score is <a style=\"color: rgb(230,78,52)\">Fail</a>\n"
      ],
      "text/plain": [
       "<IPython.core.display.HTML object>"
      ]
     },
     "metadata": {},
     "output_type": "display_data"
    }
   ],
   "source": [
    "scores = earth_position_suite.judge([earth_model, random_model])"
   ]
  },
  {
   "cell_type": "code",
   "execution_count": 64,
   "metadata": {
    "slideshow": {
     "slide_type": "fragment"
    }
   },
   "outputs": [
    {
     "data": {
      "text/html": [
       "<html><body><div>\n",
       "<style scoped=\"\">\n",
       "    .dataframe tbody tr th:only-of-type {\n",
       "        vertical-align: middle;\n",
       "    }\n",
       "\n",
       "    .dataframe tbody tr th {\n",
       "        vertical-align: top;\n",
       "    }\n",
       "\n",
       "    .dataframe thead th {\n",
       "        text-align: right;\n",
       "    }\n",
       "</style>\n",
       "<table border=\"1\" class=\"dataframe\" id=\"-617832352578426118\">\n",
       "<thead>\n",
       "<tr style=\"text-align: right;\">\n",
       "<th></th>\n",
       "<th title>Earth Orbital Data on March 1st, 2019</th>\n",
       "<th title>Earth Orbital Data on April 1st, 2019</th>\n",
       "</tr>\n",
       "</thead>\n",
       "<tbody>\n",
       "<tr>\n",
       "<th title=\"A sciunit model class corresponding to a Kepler-type model of an object in the solar system. This model has the  `ProducesOrbitalPosition` capability by inheritance\">Kepler's Earth Model</th>\n",
       "<td style=\"background-color: rgb(60,169,88);\" title=\"Passing score if the prediction is within &lt; 100,000 km of the observation\">Pass</td>\n",
       "<td style=\"background-color: rgb(230,78,52);\" title=\"Passing score if the prediction is within &lt; 100,000 km of the observation\">Fail</td>\n",
       "</tr>\n",
       "<tr>\n",
       "<th title=\"No description available\">Random Earth Model</th>\n",
       "<td style=\"background-color: rgb(230,78,52);\" title=\"Passing score if the prediction is within &lt; 100,000 km of the observation\">Fail</td>\n",
       "<td style=\"background-color: rgb(230,78,52);\" title=\"Passing score if the prediction is within &lt; 100,000 km of the observation\">Fail</td>\n",
       "</tr>\n",
       "</tbody>\n",
       "</table>\n",
       "</div></body></html>"
      ],
      "text/plain": [
       "                     Earth Orbital Data on March 1st, 2019  \\\n",
       "Kepler's Earth Model                                  Pass   \n",
       "Random Earth Model                                    Fail   \n",
       "\n",
       "                     Earth Orbital Data on April 1st, 2019  \n",
       "Kepler's Earth Model                                  Fail  \n",
       "Random Earth Model                                    Fail  "
      ]
     },
     "execution_count": 64,
     "metadata": {},
     "output_type": "execute_result"
    }
   ],
   "source": [
    "scores"
   ]
  },
  {
   "cell_type": "markdown",
   "metadata": {
    "slideshow": {
     "slide_type": "slide"
    }
   },
   "source": [
    "### <i>SciUnit</i> is in use in several multiscale modeling projects including:\n",
    "#### - [The Human Brain Project](https://www.humanbrainproject.eu/en/) (neurophysiology, neuroanatomy, neuroimaging)\n",
    "#### - [OpenWorm](http://openworm.org/) (physiology, behavior)"
   ]
  },
  {
   "cell_type": "markdown",
   "metadata": {
    "slideshow": {
     "slide_type": "fragment"
    }
   },
   "source": [
    "### <i>[NeuronUnit](http://neuronunit.scidash.org)</i> is a reference implementation in the domain of neurophysiology of:\n",
    "#### - model classes\n",
    "#### - test classes\n",
    "#### - capability classes\n",
    "#### - tools for constructing tests from several public neurophysiology databases\n",
    "#### - tools for implementing capabilities from standard model exchange formats\n",
    "#### - tools for executing simulations underlying testing using popular simulators\n",
    "#### - test-driven model optimization"
   ]
  },
  {
   "cell_type": "markdown",
   "metadata": {
    "slideshow": {
     "slide_type": "slide"
    }
   },
   "source": [
    "### <i>[SciDash](http://dash.scidash.org)</i> is a web application for creating, scheduling, and viewing the results of SciUnit tests without writing a single line of code."
   ]
  },
  {
   "cell_type": "markdown",
   "metadata": {
    "slideshow": {
     "slide_type": "slide"
    }
   },
   "source": [
    "<hr>\n",
    "<div align='center' style='font-size:300%; line-height:30px;'>\n",
    "Links:\n",
    "</div>\n",
    "<table align='center' style='font-size:150%; line-height:30px;'>\n",
    "<tr>\n",
    "    <td width='25%'><img src=\"https://github.com/scidash/assets/blob/master/logos/SciUnit/sci-unit-wide.png?raw=true\"  href=\"http://sciunit.scidash.org\" width=\"50%\"></td>\n",
    "    <td width='25%'><img src=\"https://github.com/scidash/assets/blob/master/logos/neuronunit-logo.png?raw=trueg\" href=\"http://neuronunit.scidash.org\" width=\"50%\"></td>\n",
    "</tr>\n",
    "<tr>\n",
    "    <td width='25%'><img src=\"https://github.com/scidash/assets/blob/master/logos/scidash_logo.png?raw=true\"  href=\"http://dash.scidash.org\" width=\"50%\"></td>\n",
    "    <td width='25%'><img src=\"http://science-marketplace.org/oc-content/uploads/6/599.png\" width=\"35%\"></td>\n",
    "</tr>\n",
    "</table>"
   ]
  },
  {
   "cell_type": "markdown",
   "metadata": {
    "slideshow": {
     "slide_type": "slide"
    }
   },
   "source": [
    "<hr>\n",
    "<div align='center' style='font-size:200%; line-height:30px;'>\n",
    "Funded by:\n",
    "</div>\n",
    "<table align='center' style='line-height:30px;'>\n",
    "<tr>\n",
    "    <td width='25%'>R01DC018455 (NIDCD)</td>\n",
    "    <td width='25%'><img src=\"https://upload.wikimedia.org/wikipedia/commons/thumb/c/cd/US-NIH-NIDCD-Logo.svg/1920px-US-NIH-NIDCD-Logo.svg.png\" width=\"50%\"></td>\n",
    "    <td width='25%'>R01MH106674 (NIMH)</td>\n",
    "    <td width='25%'><img src=\"https://upload.wikimedia.org/wikipedia/commons/a/a0/NIH-NIMH-logo-new.png\" width=\"100%\"></td>\n",
    "</tr>\n",
    "<tr>\n",
    "    <td>R01EB021711 (NIBIB)</td>\n",
    "    <td><img src=\"https://upload.wikimedia.org/wikipedia/commons/1/15/NIH_NIBIB_Vertical_Logo_2Color.jpg\" width=\"50%\"></td>\n",
    "    <td>Human Brain Project</td>\n",
    "    <td><img src=\"https://pbs.twimg.com/profile_images/660035391442042880/v7RkSosC_400x400.png\" width=\"50%\"></td>\n",
    "</tr>\n",
    "</table>\n",
    "\n",
    "### Thanks also to Sharon Crook, Justas Birgiolas, Russell Jarvis, and Cyrus Omar"
   ]
  },
  {
   "cell_type": "code",
   "execution_count": null,
   "metadata": {},
   "outputs": [],
   "source": []
  }
 ],
 "metadata": {
  "celltoolbar": "Slideshow",
  "kernelspec": {
   "display_name": "Python 3",
   "language": "python",
   "name": "python3"
  },
  "language_info": {
   "codemirror_mode": {
    "name": "ipython",
    "version": 3
   },
   "file_extension": ".py",
   "mimetype": "text/x-python",
   "name": "python",
   "nbconvert_exporter": "python",
   "pygments_lexer": "ipython3",
   "version": "3.7.2"
  }
 },
 "nbformat": 4,
 "nbformat_minor": 2
}
