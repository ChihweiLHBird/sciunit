{
 "cells": [
  {
   "cell_type": "markdown",
   "metadata": {
    "slideshow": {
     "slide_type": "slide"
    }
   },
   "source": [
    "<div align='center' style='font-size:300%'>Validating Computational Models with</div>\n",
    "<img src=\"https://raw.githubusercontent.com/scidash/assets/master/logos/SciUnit/sci-unit-wide.png\" width=\"25%\">\n",
    "<hr>\n",
    "<div align='center' style='font-size:200%; line-height:30px;'>\n",
    "Richard C. (Rick) Gerkin, PhD\n",
    "</div>    \n",
    "<div align='center' style='font-size:150%; line-height:30px;'>Associate Research Professor, School of Life Sciences<br>\n",
    "Co-Director, <a href=\"http://iconlab.asu.edu\">Laboratory for Informatics and Computation in Open Neuroscience</a><br>\n",
    "Arizona State University, Tempe, AZ USA\n",
    "</div>\n",
    "<hr>"
   ]
  },
  {
   "cell_type": "markdown",
   "metadata": {
    "slideshow": {
     "slide_type": "slide"
    }
   },
   "source": [
    "# SciUnit is a framework for validating scientific models by creating experimental-data-driven unit tests.  \n",
    "\n",
    "# Chapter 1. What is SciUnit?\n",
    "Everyone hopes that their model has some correspondence with reality.  Usually, checking whether this is true is done informally.\n",
    "### SciUnit makes this formal and transparent.  "
   ]
  },
  {
   "cell_type": "markdown",
   "metadata": {},
   "source": [
    "<hr>\n",
    "<div align='center' style='font-size:300%; line-height:30px;'>\n",
    "Links:\n",
    "</div>\n",
    "<table align='center' style='font-size:150%; line-height:30px;'>\n",
    "<tr>\n",
    "    <td width='25%'><img src=\"https://github.com/scidash/assets/blob/master/logos/SciUnit/sci-unit-wide.png?raw=true\"  href=\"http://sciunit.scidash.org\" width=\"50%\"></td>\n",
    "    <td width='25%'><img src=\"https://github.com/scidash/assets/blob/master/logos/neuronunit-logo.png?raw=trueg\" href=\"http://neuronunit.scidash.org\" width=\"50%\"></td>\n",
    "</tr>\n",
    "<tr>\n",
    "    <td width='25%'><img src=\"https://github.com/scidash/assets/blob/master/logos/scidash_logo.png?raw=true\"  href=\"http://dash.scidash.org\" width=\"50%\"></td>\n",
    "    <td width='25%'><img src=\"http://science-marketplace.org/oc-content/uploads/6/599.png\" width=\"35%\"></td>\n",
    "</tr>\n",
    "</table>"
   ]
  },
  {
   "cell_type": "markdown",
   "metadata": {},
   "source": [
    "<hr>\n",
    "<div align='center' style='font-size:200%; line-height:30px;'>\n",
    "Funded by:\n",
    "</div>\n",
    "<table align='center' style='font-size:150%; line-height:30px;'>\n",
    "<tr>\n",
    "    <td width='25%'>R01DC018455 (NIDCD)</td>\n",
    "    <td width='25%'><img src=\"https://upload.wikimedia.org/wikipedia/commons/thumb/c/cd/US-NIH-NIDCD-Logo.svg/1920px-US-NIH-NIDCD-Logo.svg.png\" width=\"50%\"></td>\n",
    "    <td width='25%'>R01MH106674 (NIMH)</td>\n",
    "    <td width='25%'><img src=\"https://upload.wikimedia.org/wikipedia/commons/a/a0/NIH-NIMH-logo-new.png\" width=\"100%\"></td>\n",
    "</tr>\n",
    "<tr>\n",
    "    <td>R01EB021711 (NIBIB)</td>\n",
    "    <td><img src=\"https://upload.wikimedia.org/wikipedia/commons/1/15/NIH_NIBIB_Vertical_Logo_2Color.jpg\" width=\"50%\"></td>\n",
    "    <td>Human Brain Project</td>\n",
    "    <td><img src=\"https://pbs.twimg.com/profile_images/660035391442042880/v7RkSosC_400x400.png\" width=\"50%\"></td>\n",
    "</tr>\n",
    "</table>"
   ]
  },
  {
   "cell_type": "code",
   "execution_count": null,
   "metadata": {},
   "outputs": [],
   "source": []
  }
 ],
 "metadata": {
  "celltoolbar": "Slideshow",
  "kernelspec": {
   "display_name": "Python 3",
   "language": "python",
   "name": "python3"
  },
  "language_info": {
   "codemirror_mode": {
    "name": "ipython",
    "version": 3
   },
   "file_extension": ".py",
   "mimetype": "text/x-python",
   "name": "python",
   "nbconvert_exporter": "python",
   "pygments_lexer": "ipython3",
   "version": "3.7.1"
  }
 },
 "nbformat": 4,
 "nbformat_minor": 2
}
